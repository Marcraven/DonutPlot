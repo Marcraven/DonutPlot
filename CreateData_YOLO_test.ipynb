{
 "cells": [
  {
   "cell_type": "markdown",
   "metadata": {},
   "source": [
    "## 1. Imports and inputs"
   ]
  },
  {
   "cell_type": "code",
   "execution_count": 268,
   "metadata": {},
   "outputs": [],
   "source": [
    "### Imports\n",
    "import numpy as np\n",
    "import pandas as pd\n",
    "import matplotlib.pyplot as plt\n"
   ]
  },
  {
   "cell_type": "code",
   "execution_count": 269,
   "metadata": {},
   "outputs": [],
   "source": [
    "# Create random X and y values\n",
    "X = np.random.uniform(low=0, high=1000, size=(15,))\n",
    "y = np.random.uniform(low=0, high=1000, size=(15,))\n"
   ]
  },
  {
   "cell_type": "code",
   "execution_count": 270,
   "metadata": {},
   "outputs": [
    {
     "data": {
      "text/html": [
       "<div>\n",
       "<style scoped>\n",
       "    .dataframe tbody tr th:only-of-type {\n",
       "        vertical-align: middle;\n",
       "    }\n",
       "\n",
       "    .dataframe tbody tr th {\n",
       "        vertical-align: top;\n",
       "    }\n",
       "\n",
       "    .dataframe thead th {\n",
       "        text-align: right;\n",
       "    }\n",
       "</style>\n",
       "<table border=\"1\" class=\"dataframe\">\n",
       "  <thead>\n",
       "    <tr style=\"text-align: right;\">\n",
       "      <th></th>\n",
       "      <th>X</th>\n",
       "      <th>y</th>\n",
       "    </tr>\n",
       "  </thead>\n",
       "  <tbody>\n",
       "    <tr>\n",
       "      <th>0</th>\n",
       "      <td>458.892966</td>\n",
       "      <td>780.138948</td>\n",
       "    </tr>\n",
       "    <tr>\n",
       "      <th>1</th>\n",
       "      <td>975.482629</td>\n",
       "      <td>813.462882</td>\n",
       "    </tr>\n",
       "    <tr>\n",
       "      <th>2</th>\n",
       "      <td>601.351976</td>\n",
       "      <td>896.411079</td>\n",
       "    </tr>\n",
       "    <tr>\n",
       "      <th>3</th>\n",
       "      <td>526.682691</td>\n",
       "      <td>447.205870</td>\n",
       "    </tr>\n",
       "    <tr>\n",
       "      <th>4</th>\n",
       "      <td>364.682119</td>\n",
       "      <td>166.872310</td>\n",
       "    </tr>\n",
       "    <tr>\n",
       "      <th>5</th>\n",
       "      <td>566.544258</td>\n",
       "      <td>845.022837</td>\n",
       "    </tr>\n",
       "    <tr>\n",
       "      <th>6</th>\n",
       "      <td>531.439536</td>\n",
       "      <td>529.277535</td>\n",
       "    </tr>\n",
       "    <tr>\n",
       "      <th>7</th>\n",
       "      <td>334.844993</td>\n",
       "      <td>336.649730</td>\n",
       "    </tr>\n",
       "    <tr>\n",
       "      <th>8</th>\n",
       "      <td>504.567267</td>\n",
       "      <td>366.405027</td>\n",
       "    </tr>\n",
       "    <tr>\n",
       "      <th>9</th>\n",
       "      <td>537.170842</td>\n",
       "      <td>702.262104</td>\n",
       "    </tr>\n",
       "    <tr>\n",
       "      <th>10</th>\n",
       "      <td>873.662367</td>\n",
       "      <td>53.301675</td>\n",
       "    </tr>\n",
       "    <tr>\n",
       "      <th>11</th>\n",
       "      <td>363.350162</td>\n",
       "      <td>202.692080</td>\n",
       "    </tr>\n",
       "    <tr>\n",
       "      <th>12</th>\n",
       "      <td>554.684089</td>\n",
       "      <td>972.552435</td>\n",
       "    </tr>\n",
       "    <tr>\n",
       "      <th>13</th>\n",
       "      <td>625.447863</td>\n",
       "      <td>268.231095</td>\n",
       "    </tr>\n",
       "    <tr>\n",
       "      <th>14</th>\n",
       "      <td>404.950883</td>\n",
       "      <td>111.488997</td>\n",
       "    </tr>\n",
       "  </tbody>\n",
       "</table>\n",
       "</div>"
      ],
      "text/plain": [
       "             X           y\n",
       "0   458.892966  780.138948\n",
       "1   975.482629  813.462882\n",
       "2   601.351976  896.411079\n",
       "3   526.682691  447.205870\n",
       "4   364.682119  166.872310\n",
       "5   566.544258  845.022837\n",
       "6   531.439536  529.277535\n",
       "7   334.844993  336.649730\n",
       "8   504.567267  366.405027\n",
       "9   537.170842  702.262104\n",
       "10  873.662367   53.301675\n",
       "11  363.350162  202.692080\n",
       "12  554.684089  972.552435\n",
       "13  625.447863  268.231095\n",
       "14  404.950883  111.488997"
      ]
     },
     "execution_count": 270,
     "metadata": {},
     "output_type": "execute_result"
    }
   ],
   "source": [
    "# List X and y values for illustrative purposes\n",
    "inputs = pd.DataFrame()\n",
    "inputs['X'] = X\n",
    "inputs['y'] = y\n",
    "inputs\n"
   ]
  },
  {
   "cell_type": "code",
   "execution_count": 271,
   "metadata": {},
   "outputs": [
    {
     "data": {
      "text/plain": [
       "Text(0.5, 1.0, 'title')"
      ]
     },
     "execution_count": 271,
     "metadata": {},
     "output_type": "execute_result"
    },
    {
     "data": {
      "image/png": "[encoded data removed]",
      "text/plain": [
       "<Figure size 320x240 with 1 Axes>"
      ]
     },
     "metadata": {},
     "output_type": "display_data"
    }
   ],
   "source": [
    "# Create the scatter plot\n",
    "fig, ax = plt.subplots(figsize=(3.2,2.4), dpi=100)\n",
    "ax.scatter(x=X, y=y)\n",
    "ax.set_xlabel('x_label')\n",
    "ax.set_ylabel('y_label')\n",
    "ax.set_title('title')\n"
   ]
  },
  {
   "cell_type": "markdown",
   "metadata": {},
   "source": [
    "## 2. Deriving dot positions"
   ]
  },
  {
   "cell_type": "code",
   "execution_count": 272,
   "metadata": {},
   "outputs": [],
   "source": [
    "# Derive the dot pixels\n",
    "xy_pixels = ax.transData.transform(np.vstack([X,y]).T)\n",
    "xpix, ypix = xy_pixels.T\n",
    "\n",
    "# Flip y pixels vertically\n",
    "fig_width, fig_height = fig.canvas.get_width_height()\n",
    "ypix_flipped = fig_height - ypix\n",
    "\n",
    "# Standardise pixels to (0,1)\n",
    "xpix_std = xpix / fig_width\n",
    "ypix_std = ypix_flipped / fig_height\n"
   ]
  },
  {
   "cell_type": "code",
   "execution_count": 273,
   "metadata": {},
   "outputs": [
    {
     "data": {
      "text/html": [
       "<div>\n",
       "<style scoped>\n",
       "    .dataframe tbody tr th:only-of-type {\n",
       "        vertical-align: middle;\n",
       "    }\n",
       "\n",
       "    .dataframe tbody tr th {\n",
       "        vertical-align: top;\n",
       "    }\n",
       "\n",
       "    .dataframe thead th {\n",
       "        text-align: right;\n",
       "    }\n",
       "</style>\n",
       "<table border=\"1\" class=\"dataframe\">\n",
       "  <thead>\n",
       "    <tr style=\"text-align: right;\">\n",
       "      <th></th>\n",
       "      <th>X_values_plotted</th>\n",
       "      <th>y_values_plotted</th>\n",
       "      <th>X_coordinate_pixels</th>\n",
       "      <th>y_coordinate_pixels</th>\n",
       "      <th>X_coordinate_std</th>\n",
       "      <th>y_coordinate_std</th>\n",
       "    </tr>\n",
       "  </thead>\n",
       "  <tbody>\n",
       "    <tr>\n",
       "      <th>0</th>\n",
       "      <td>458.892966</td>\n",
       "      <td>780.138948</td>\n",
       "      <td>94.927951</td>\n",
       "      <td>167.634986</td>\n",
       "      <td>0.296650</td>\n",
       "      <td>0.301521</td>\n",
       "    </tr>\n",
       "    <tr>\n",
       "      <th>1</th>\n",
       "      <td>975.482629</td>\n",
       "      <td>813.462882</td>\n",
       "      <td>276.727273</td>\n",
       "      <td>173.725186</td>\n",
       "      <td>0.864773</td>\n",
       "      <td>0.276145</td>\n",
       "    </tr>\n",
       "    <tr>\n",
       "      <th>2</th>\n",
       "      <td>601.351976</td>\n",
       "      <td>896.411079</td>\n",
       "      <td>145.062426</td>\n",
       "      <td>188.884594</td>\n",
       "      <td>0.453320</td>\n",
       "      <td>0.212981</td>\n",
       "    </tr>\n",
       "    <tr>\n",
       "      <th>3</th>\n",
       "      <td>526.682691</td>\n",
       "      <td>447.205870</td>\n",
       "      <td>118.784654</td>\n",
       "      <td>106.788958</td>\n",
       "      <td>0.371202</td>\n",
       "      <td>0.555046</td>\n",
       "    </tr>\n",
       "    <tr>\n",
       "      <th>4</th>\n",
       "      <td>364.682119</td>\n",
       "      <td>166.872310</td>\n",
       "      <td>61.773071</td>\n",
       "      <td>55.555889</td>\n",
       "      <td>0.193041</td>\n",
       "      <td>0.768517</td>\n",
       "    </tr>\n",
       "    <tr>\n",
       "      <th>5</th>\n",
       "      <td>566.544258</td>\n",
       "      <td>845.022837</td>\n",
       "      <td>132.812820</td>\n",
       "      <td>179.493005</td>\n",
       "      <td>0.415040</td>\n",
       "      <td>0.252112</td>\n",
       "    </tr>\n",
       "    <tr>\n",
       "      <th>6</th>\n",
       "      <td>531.439536</td>\n",
       "      <td>529.277535</td>\n",
       "      <td>120.458693</td>\n",
       "      <td>121.788173</td>\n",
       "      <td>0.376433</td>\n",
       "      <td>0.492549</td>\n",
       "    </tr>\n",
       "    <tr>\n",
       "      <th>7</th>\n",
       "      <td>334.844993</td>\n",
       "      <td>336.649730</td>\n",
       "      <td>51.272727</td>\n",
       "      <td>86.583991</td>\n",
       "      <td>0.160227</td>\n",
       "      <td>0.639233</td>\n",
       "    </tr>\n",
       "    <tr>\n",
       "      <th>8</th>\n",
       "      <td>504.567267</td>\n",
       "      <td>366.405027</td>\n",
       "      <td>111.001747</td>\n",
       "      <td>92.021996</td>\n",
       "      <td>0.346880</td>\n",
       "      <td>0.616575</td>\n",
       "    </tr>\n",
       "    <tr>\n",
       "      <th>9</th>\n",
       "      <td>537.170842</td>\n",
       "      <td>702.262104</td>\n",
       "      <td>122.475666</td>\n",
       "      <td>153.402406</td>\n",
       "      <td>0.382736</td>\n",
       "      <td>0.360823</td>\n",
       "    </tr>\n",
       "    <tr>\n",
       "      <th>10</th>\n",
       "      <td>873.662367</td>\n",
       "      <td>53.301675</td>\n",
       "      <td>240.894472</td>\n",
       "      <td>34.800000</td>\n",
       "      <td>0.752795</td>\n",
       "      <td>0.855000</td>\n",
       "    </tr>\n",
       "    <tr>\n",
       "      <th>11</th>\n",
       "      <td>363.350162</td>\n",
       "      <td>202.692080</td>\n",
       "      <td>61.304326</td>\n",
       "      <td>62.102222</td>\n",
       "      <td>0.191576</td>\n",
       "      <td>0.741241</td>\n",
       "    </tr>\n",
       "    <tr>\n",
       "      <th>12</th>\n",
       "      <td>554.684089</td>\n",
       "      <td>972.552435</td>\n",
       "      <td>128.638965</td>\n",
       "      <td>202.800000</td>\n",
       "      <td>0.401997</td>\n",
       "      <td>0.155000</td>\n",
       "    </tr>\n",
       "    <tr>\n",
       "      <th>13</th>\n",
       "      <td>625.447863</td>\n",
       "      <td>268.231095</td>\n",
       "      <td>153.542301</td>\n",
       "      <td>74.079970</td>\n",
       "      <td>0.479820</td>\n",
       "      <td>0.691333</td>\n",
       "    </tr>\n",
       "    <tr>\n",
       "      <th>14</th>\n",
       "      <td>404.950883</td>\n",
       "      <td>111.488997</td>\n",
       "      <td>75.944540</td>\n",
       "      <td>45.434171</td>\n",
       "      <td>0.237327</td>\n",
       "      <td>0.810691</td>\n",
       "    </tr>\n",
       "  </tbody>\n",
       "</table>\n",
       "</div>"
      ],
      "text/plain": [
       "    X_values_plotted  y_values_plotted  X_coordinate_pixels  \\\n",
       "0         458.892966        780.138948            94.927951   \n",
       "1         975.482629        813.462882           276.727273   \n",
       "2         601.351976        896.411079           145.062426   \n",
       "3         526.682691        447.205870           118.784654   \n",
       "4         364.682119        166.872310            61.773071   \n",
       "5         566.544258        845.022837           132.812820   \n",
       "6         531.439536        529.277535           120.458693   \n",
       "7         334.844993        336.649730            51.272727   \n",
       "8         504.567267        366.405027           111.001747   \n",
       "9         537.170842        702.262104           122.475666   \n",
       "10        873.662367         53.301675           240.894472   \n",
       "11        363.350162        202.692080            61.304326   \n",
       "12        554.684089        972.552435           128.638965   \n",
       "13        625.447863        268.231095           153.542301   \n",
       "14        404.950883        111.488997            75.944540   \n",
       "\n",
       "    y_coordinate_pixels  X_coordinate_std  y_coordinate_std  \n",
       "0            167.634986          0.296650          0.301521  \n",
       "1            173.725186          0.864773          0.276145  \n",
       "2            188.884594          0.453320          0.212981  \n",
       "3            106.788958          0.371202          0.555046  \n",
       "4             55.555889          0.193041          0.768517  \n",
       "5            179.493005          0.415040          0.252112  \n",
       "6            121.788173          0.376433          0.492549  \n",
       "7             86.583991          0.160227          0.639233  \n",
       "8             92.021996          0.346880          0.616575  \n",
       "9            153.402406          0.382736          0.360823  \n",
       "10            34.800000          0.752795          0.855000  \n",
       "11            62.102222          0.191576          0.741241  \n",
       "12           202.800000          0.401997          0.155000  \n",
       "13            74.079970          0.479820          0.691333  \n",
       "14            45.434171          0.237327          0.810691  "
      ]
     },
     "execution_count": 273,
     "metadata": {},
     "output_type": "execute_result"
    }
   ],
   "source": [
    "# Create summary table for illustrative purposes\n",
    "summary = pd.DataFrame()\n",
    "summary['X_values_plotted'] = X\n",
    "summary['y_values_plotted'] = y\n",
    "summary['X_coordinate_pixels'] = xpix\n",
    "summary['y_coordinate_pixels'] = ypix\n",
    "summary['X_coordinate_std'] = xpix_std\n",
    "summary['y_coordinate_std'] = ypix_std\n",
    "\n",
    "summary\n"
   ]
  },
  {
   "cell_type": "markdown",
   "metadata": {},
   "source": [
    "Explanation to above:\n",
    "- X_values_plotted: X values plotted on chart\n",
    "- y_values_plotted: y values plotted on chart\n",
    "- X_coordinate_pixels: X coordinate positions of dots on chart in pixels (0 left, 320 right)\n",
    "- y_coordinate_pixels: y coordinate positions of dots on chart in pixels (0 top, 240 bottom)\n",
    "- X_coordinate_std: X coordinate positions of dots standardised to chart width (0 left, 1 right)\n",
    "- y_coordinate_std: y coordinate positions of dots standardised to chart height (0 top, 1 bottom)"
   ]
  },
  {
   "cell_type": "markdown",
   "metadata": {},
   "source": [
    "## 3. Deriving axis tick positions"
   ]
  },
  {
   "cell_type": "code",
   "execution_count": 274,
   "metadata": {},
   "outputs": [
    {
     "name": "stdout",
     "output_type": "stream",
     "text": [
      "[ 200.  400.  600.  800. 1000. 1200.]\n",
      "[   0.  200.  400.  600.  800. 1000. 1200.]\n"
     ]
    }
   ],
   "source": [
    "# Get x and y tick positions in data coordinates\n",
    "x_ticks_data = ax.get_xticks()\n",
    "y_ticks_data = ax.get_yticks()\n",
    "\n",
    "print(x_ticks_data)\n",
    "print(y_ticks_data)\n"
   ]
  },
  {
   "cell_type": "code",
   "execution_count": 275,
   "metadata": {},
   "outputs": [
    {
     "data": {
      "text/plain": [
       "numpy.ndarray"
      ]
     },
     "execution_count": 275,
     "metadata": {},
     "output_type": "execute_result"
    }
   ],
   "source": [
    "type(x_ticks_data)\n"
   ]
  },
  {
   "cell_type": "code",
   "execution_count": 276,
   "metadata": {},
   "outputs": [
    {
     "name": "stdout",
     "output_type": "stream",
     "text": [
      "302.81311153465157\n",
      "7.339136461207133\n"
     ]
    }
   ],
   "source": [
    "# Get minimum axis values\n",
    "x_lim_min, x_lim_max = ax.get_xlim()\n",
    "y_lim_min, y_lim_max = ax.get_ylim()\n",
    "\n",
    "print(x_lim_min)\n",
    "print(y_lim_min)\n"
   ]
  },
  {
   "cell_type": "code",
   "execution_count": 277,
   "metadata": {},
   "outputs": [
    {
     "name": "stdout",
     "output_type": "stream",
     "text": [
      "[ 400.  600.  800. 1000.]\n",
      "[ 200.  400.  600.  800. 1000.]\n"
     ]
    }
   ],
   "source": [
    "# Removing first and last items tick items that are not visualised\n",
    "\n",
    "if x_ticks_data.min() != x_lim_min:\n",
    "    x_ticks_data = np.delete(x_ticks_data, np.where(x_ticks_data == x_ticks_data.min()))\n",
    "    # x_ticks_data.remove(x_ticks_data[0])\n",
    "\n",
    "if x_ticks_data.max() != x_lim_max:\n",
    "    x_ticks_data = np.delete(x_ticks_data, np.where(x_ticks_data == x_ticks_data.max()))\n",
    "\n",
    "if y_ticks_data.min() != y_lim_min:\n",
    "    y_ticks_data = np.delete(y_ticks_data, np.where(y_ticks_data == y_ticks_data.min()))\n",
    "\n",
    "if y_ticks_data.max() != y_lim_max:\n",
    "    y_ticks_data = np.delete(y_ticks_data, np.where(y_ticks_data == y_ticks_data.max()))\n",
    "\n",
    "print(x_ticks_data)\n",
    "print(y_ticks_data)\n"
   ]
  },
  {
   "cell_type": "code",
   "execution_count": 278,
   "metadata": {},
   "outputs": [
    {
     "name": "stdout",
     "output_type": "stream",
     "text": [
      "[[ 74.2022144   26.4       ]\n",
      " [144.58663547  26.4       ]\n",
      " [214.97105654  26.4       ]\n",
      " [285.35547762  26.4       ]]\n",
      "\n",
      "\n",
      "[[ 40.          61.61022386]\n",
      " [ 40.          98.16173018]\n",
      " [ 40.         134.71323651]\n",
      " [ 40.         171.26474283]\n",
      " [ 40.         207.81624916]]\n"
     ]
    }
   ],
   "source": [
    "# Convert data coordinates to pixel coordinates\n",
    "x_ticks_pixel = ax.transData.transform([[x, y_lim_min] for x in x_ticks_data])\n",
    "y_ticks_pixel = ax.transData.transform([[x_lim_min, y] for y in y_ticks_data])\n",
    "\n",
    "print(x_ticks_pixel)\n",
    "print('\\n')\n",
    "print(y_ticks_pixel)\n"
   ]
  },
  {
   "cell_type": "code",
   "execution_count": 279,
   "metadata": {},
   "outputs": [],
   "source": [
    "# Split pixel coordinats into separate lists\n",
    "x_ticks_x_coord_pixel = x_ticks_pixel[:, 0]\n",
    "x_ticks_y_coord_pixel = x_ticks_pixel[:, 1]\n",
    "\n",
    "y_ticks_x_coord_pixel = y_ticks_pixel[:, 0]\n",
    "y_ticks_y_coord_pixel = y_ticks_pixel[:, 1]\n",
    "\n",
    "# Flip y coordinates verically\n",
    "x_ticks_y_coord_pixel_flip = fig_height - x_ticks_y_coord_pixel\n",
    "y_ticks_y_coord_pixel_flip = fig_height - y_ticks_y_coord_pixel\n"
   ]
  },
  {
   "cell_type": "code",
   "execution_count": 280,
   "metadata": {},
   "outputs": [
    {
     "data": {
      "text/html": [
       "<div>\n",
       "<style scoped>\n",
       "    .dataframe tbody tr th:only-of-type {\n",
       "        vertical-align: middle;\n",
       "    }\n",
       "\n",
       "    .dataframe tbody tr th {\n",
       "        vertical-align: top;\n",
       "    }\n",
       "\n",
       "    .dataframe thead th {\n",
       "        text-align: right;\n",
       "    }\n",
       "</style>\n",
       "<table border=\"1\" class=\"dataframe\">\n",
       "  <thead>\n",
       "    <tr style=\"text-align: right;\">\n",
       "      <th></th>\n",
       "      <th>x_ticks</th>\n",
       "      <th>x_ticks_x_coord_pixel</th>\n",
       "      <th>x_ticks_y_coord_pixel_flip</th>\n",
       "    </tr>\n",
       "  </thead>\n",
       "  <tbody>\n",
       "    <tr>\n",
       "      <th>0</th>\n",
       "      <td>400.0</td>\n",
       "      <td>74.202214</td>\n",
       "      <td>213.6</td>\n",
       "    </tr>\n",
       "    <tr>\n",
       "      <th>1</th>\n",
       "      <td>600.0</td>\n",
       "      <td>144.586635</td>\n",
       "      <td>213.6</td>\n",
       "    </tr>\n",
       "    <tr>\n",
       "      <th>2</th>\n",
       "      <td>800.0</td>\n",
       "      <td>214.971057</td>\n",
       "      <td>213.6</td>\n",
       "    </tr>\n",
       "    <tr>\n",
       "      <th>3</th>\n",
       "      <td>1000.0</td>\n",
       "      <td>285.355478</td>\n",
       "      <td>213.6</td>\n",
       "    </tr>\n",
       "  </tbody>\n",
       "</table>\n",
       "</div>"
      ],
      "text/plain": [
       "   x_ticks  x_ticks_x_coord_pixel  x_ticks_y_coord_pixel_flip\n",
       "0    400.0              74.202214                       213.6\n",
       "1    600.0             144.586635                       213.6\n",
       "2    800.0             214.971057                       213.6\n",
       "3   1000.0             285.355478                       213.6"
      ]
     },
     "metadata": {},
     "output_type": "display_data"
    },
    {
     "data": {
      "text/html": [
       "<div>\n",
       "<style scoped>\n",
       "    .dataframe tbody tr th:only-of-type {\n",
       "        vertical-align: middle;\n",
       "    }\n",
       "\n",
       "    .dataframe tbody tr th {\n",
       "        vertical-align: top;\n",
       "    }\n",
       "\n",
       "    .dataframe thead th {\n",
       "        text-align: right;\n",
       "    }\n",
       "</style>\n",
       "<table border=\"1\" class=\"dataframe\">\n",
       "  <thead>\n",
       "    <tr style=\"text-align: right;\">\n",
       "      <th></th>\n",
       "      <th>y_ticks</th>\n",
       "      <th>y_ticks_x_coord_pixel</th>\n",
       "      <th>y_ticks_y_coord_pixel_flip</th>\n",
       "    </tr>\n",
       "  </thead>\n",
       "  <tbody>\n",
       "    <tr>\n",
       "      <th>0</th>\n",
       "      <td>200.0</td>\n",
       "      <td>40.0</td>\n",
       "      <td>178.389776</td>\n",
       "    </tr>\n",
       "    <tr>\n",
       "      <th>1</th>\n",
       "      <td>400.0</td>\n",
       "      <td>40.0</td>\n",
       "      <td>141.838270</td>\n",
       "    </tr>\n",
       "    <tr>\n",
       "      <th>2</th>\n",
       "      <td>600.0</td>\n",
       "      <td>40.0</td>\n",
       "      <td>105.286763</td>\n",
       "    </tr>\n",
       "    <tr>\n",
       "      <th>3</th>\n",
       "      <td>800.0</td>\n",
       "      <td>40.0</td>\n",
       "      <td>68.735257</td>\n",
       "    </tr>\n",
       "    <tr>\n",
       "      <th>4</th>\n",
       "      <td>1000.0</td>\n",
       "      <td>40.0</td>\n",
       "      <td>32.183751</td>\n",
       "    </tr>\n",
       "  </tbody>\n",
       "</table>\n",
       "</div>"
      ],
      "text/plain": [
       "   y_ticks  y_ticks_x_coord_pixel  y_ticks_y_coord_pixel_flip\n",
       "0    200.0                   40.0                  178.389776\n",
       "1    400.0                   40.0                  141.838270\n",
       "2    600.0                   40.0                  105.286763\n",
       "3    800.0                   40.0                   68.735257\n",
       "4   1000.0                   40.0                   32.183751"
      ]
     },
     "metadata": {},
     "output_type": "display_data"
    }
   ],
   "source": [
    "# Create summary table for illustrative purposes\n",
    "summary_x_ticks_pixel = pd.DataFrame()\n",
    "summary_x_ticks_pixel['x_ticks'] = x_ticks_data\n",
    "summary_x_ticks_pixel['x_ticks_x_coord_pixel'] = x_ticks_x_coord_pixel\n",
    "summary_x_ticks_pixel['x_ticks_y_coord_pixel_flip'] = x_ticks_y_coord_pixel_flip\n",
    "\n",
    "summary_y_ticks_pixel = pd.DataFrame()\n",
    "summary_y_ticks_pixel['y_ticks'] = y_ticks_data\n",
    "summary_y_ticks_pixel['y_ticks_x_coord_pixel'] = y_ticks_x_coord_pixel\n",
    "summary_y_ticks_pixel['y_ticks_y_coord_pixel_flip'] = y_ticks_y_coord_pixel_flip\n",
    "\n",
    "display(summary_x_ticks_pixel)\n",
    "display(summary_y_ticks_pixel)\n"
   ]
  },
  {
   "cell_type": "code",
   "execution_count": 281,
   "metadata": {},
   "outputs": [
    {
     "data": {
      "image/png": "[encoded data removed]",
      "text/plain": [
       "<Figure size 320x240 with 1 Axes>"
      ]
     },
     "execution_count": 281,
     "metadata": {},
     "output_type": "execute_result"
    }
   ],
   "source": [
    "fig\n"
   ]
  },
  {
   "cell_type": "code",
   "execution_count": 282,
   "metadata": {},
   "outputs": [],
   "source": [
    "# Standardise pixel coordinates to (0,1)\n",
    "x_ticks_x_coord_std = x_ticks_x_coord_pixel / fig_width\n",
    "x_ticks_y_coord_std = x_ticks_y_coord_pixel_flip / fig_height\n",
    "\n",
    "y_ticks_x_coord_std = y_ticks_x_coord_pixel / fig_width\n",
    "y_ticks_y_coord_std = y_ticks_y_coord_pixel_flip / fig_height\n"
   ]
  },
  {
   "cell_type": "code",
   "execution_count": 283,
   "metadata": {},
   "outputs": [
    {
     "data": {
      "text/html": [
       "<div>\n",
       "<style scoped>\n",
       "    .dataframe tbody tr th:only-of-type {\n",
       "        vertical-align: middle;\n",
       "    }\n",
       "\n",
       "    .dataframe tbody tr th {\n",
       "        vertical-align: top;\n",
       "    }\n",
       "\n",
       "    .dataframe thead th {\n",
       "        text-align: right;\n",
       "    }\n",
       "</style>\n",
       "<table border=\"1\" class=\"dataframe\">\n",
       "  <thead>\n",
       "    <tr style=\"text-align: right;\">\n",
       "      <th></th>\n",
       "      <th>x_ticks</th>\n",
       "      <th>x_ticks_x_coord_std</th>\n",
       "      <th>x_ticks_y_coord_std</th>\n",
       "    </tr>\n",
       "  </thead>\n",
       "  <tbody>\n",
       "    <tr>\n",
       "      <th>0</th>\n",
       "      <td>400.0</td>\n",
       "      <td>0.231882</td>\n",
       "      <td>0.89</td>\n",
       "    </tr>\n",
       "    <tr>\n",
       "      <th>1</th>\n",
       "      <td>600.0</td>\n",
       "      <td>0.451833</td>\n",
       "      <td>0.89</td>\n",
       "    </tr>\n",
       "    <tr>\n",
       "      <th>2</th>\n",
       "      <td>800.0</td>\n",
       "      <td>0.671785</td>\n",
       "      <td>0.89</td>\n",
       "    </tr>\n",
       "    <tr>\n",
       "      <th>3</th>\n",
       "      <td>1000.0</td>\n",
       "      <td>0.891736</td>\n",
       "      <td>0.89</td>\n",
       "    </tr>\n",
       "  </tbody>\n",
       "</table>\n",
       "</div>"
      ],
      "text/plain": [
       "   x_ticks  x_ticks_x_coord_std  x_ticks_y_coord_std\n",
       "0    400.0             0.231882                 0.89\n",
       "1    600.0             0.451833                 0.89\n",
       "2    800.0             0.671785                 0.89\n",
       "3   1000.0             0.891736                 0.89"
      ]
     },
     "metadata": {},
     "output_type": "display_data"
    },
    {
     "data": {
      "text/html": [
       "<div>\n",
       "<style scoped>\n",
       "    .dataframe tbody tr th:only-of-type {\n",
       "        vertical-align: middle;\n",
       "    }\n",
       "\n",
       "    .dataframe tbody tr th {\n",
       "        vertical-align: top;\n",
       "    }\n",
       "\n",
       "    .dataframe thead th {\n",
       "        text-align: right;\n",
       "    }\n",
       "</style>\n",
       "<table border=\"1\" class=\"dataframe\">\n",
       "  <thead>\n",
       "    <tr style=\"text-align: right;\">\n",
       "      <th></th>\n",
       "      <th>y_ticks</th>\n",
       "      <th>y_ticks_x_coord_std</th>\n",
       "      <th>y_ticks_y_coord_std</th>\n",
       "    </tr>\n",
       "  </thead>\n",
       "  <tbody>\n",
       "    <tr>\n",
       "      <th>0</th>\n",
       "      <td>200.0</td>\n",
       "      <td>0.125</td>\n",
       "      <td>0.743291</td>\n",
       "    </tr>\n",
       "    <tr>\n",
       "      <th>1</th>\n",
       "      <td>400.0</td>\n",
       "      <td>0.125</td>\n",
       "      <td>0.590993</td>\n",
       "    </tr>\n",
       "    <tr>\n",
       "      <th>2</th>\n",
       "      <td>600.0</td>\n",
       "      <td>0.125</td>\n",
       "      <td>0.438695</td>\n",
       "    </tr>\n",
       "    <tr>\n",
       "      <th>3</th>\n",
       "      <td>800.0</td>\n",
       "      <td>0.125</td>\n",
       "      <td>0.286397</td>\n",
       "    </tr>\n",
       "    <tr>\n",
       "      <th>4</th>\n",
       "      <td>1000.0</td>\n",
       "      <td>0.125</td>\n",
       "      <td>0.134099</td>\n",
       "    </tr>\n",
       "  </tbody>\n",
       "</table>\n",
       "</div>"
      ],
      "text/plain": [
       "   y_ticks  y_ticks_x_coord_std  y_ticks_y_coord_std\n",
       "0    200.0                0.125             0.743291\n",
       "1    400.0                0.125             0.590993\n",
       "2    600.0                0.125             0.438695\n",
       "3    800.0                0.125             0.286397\n",
       "4   1000.0                0.125             0.134099"
      ]
     },
     "metadata": {},
     "output_type": "display_data"
    }
   ],
   "source": [
    "# Create summary table for illustrative purposes\n",
    "summary_x_ticks_std = pd.DataFrame()\n",
    "summary_x_ticks_std['x_ticks'] = x_ticks_data\n",
    "summary_x_ticks_std['x_ticks_x_coord_std'] = x_ticks_x_coord_std\n",
    "summary_x_ticks_std['x_ticks_y_coord_std'] = x_ticks_y_coord_std\n",
    "\n",
    "summary_y_ticks_std = pd.DataFrame()\n",
    "summary_y_ticks_std['y_ticks'] = y_ticks_data\n",
    "summary_y_ticks_std['y_ticks_x_coord_std'] = y_ticks_x_coord_std\n",
    "summary_y_ticks_std['y_ticks_y_coord_std'] = y_ticks_y_coord_std\n",
    "\n",
    "display(summary_x_ticks_std)\n",
    "display(summary_y_ticks_std)\n"
   ]
  },
  {
   "cell_type": "code",
   "execution_count": 284,
   "metadata": {},
   "outputs": [
    {
     "data": {
      "image/png": "[encoded data removed]",
      "text/plain": [
       "<Figure size 320x240 with 1 Axes>"
      ]
     },
     "execution_count": 284,
     "metadata": {},
     "output_type": "execute_result"
    }
   ],
   "source": [
    "fig\n"
   ]
  },
  {
   "cell_type": "code",
   "execution_count": null,
   "metadata": {},
   "outputs": [],
   "source": []
  }
 ],
 "metadata": {
  "kernelspec": {
   "display_name": "DonutPlot",
   "language": "python",
   "name": "python3"
  },
  "language_info": {
   "codemirror_mode": {
    "name": "ipython",
    "version": 3
   },
   "file_extension": ".py",
   "mimetype": "text/x-python",
   "name": "python",
   "nbconvert_exporter": "python",
   "pygments_lexer": "ipython3",
   "version": "3.10.6"
  }
 },
 "nbformat": 4,
 "nbformat_minor": 2
}
