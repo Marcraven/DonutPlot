{
 "cells": [
  {
   "cell_type": "code",
   "execution_count": 11,
   "id": "3f9c7bca-1bcd-4055-832a-b1084fea9e70",
   "metadata": {},
   "outputs": [],
   "source": [
    "def FlipWords(input):\n",
    "    return ' '.join([word[::-1] if len(word)>=5 else word for word in input.split()])"
   ]
  },
  {
   "cell_type": "code",
   "execution_count": 12,
   "id": "9a22748d-1b8e-4c2f-8c96-a66e9ef37faf",
   "metadata": {},
   "outputs": [
    {
     "name": "stdout",
     "output_type": "stream",
     "text": [
      "Hey wollef Le nogaW inmula\n"
     ]
    }
   ],
   "source": [
    "print(FlipWords(\"Hey fellow Le Wagon alumni\"))"
   ]
  },
  {
   "cell_type": "code",
   "execution_count": 14,
   "id": "1bded452-106c-43cc-b51a-0b728a51c8d2",
   "metadata": {},
   "outputs": [
    {
     "name": "stdout",
     "output_type": "stream",
     "text": [
      "Rake it litnu you make it\n"
     ]
    }
   ],
   "source": [
    "print(FlipWords(\"Rake it until you make it\"))"
   ]
  },
  {
   "cell_type": "code",
   "execution_count": 15,
   "id": "83ffcd07-ed78-44e6-9bb3-123c24c4ae11",
   "metadata": {},
   "outputs": [
    {
     "name": "stdout",
     "output_type": "stream",
     "text": [
      "egnahC your ,efil nrael to code\n"
     ]
    }
   ],
   "source": [
    "print(FlipWords(\"Change your life, learn to code\"))"
   ]
  },
  {
   "cell_type": "code",
   "execution_count": 16,
   "id": "4689bbe7-a3c0-4aa8-8461-36c6712ec37f",
   "metadata": {},
   "outputs": [],
   "source": [
    "def FlipWords(input):\n",
    "    return ' '.join([word[::-1] if len(word)>=5 else word for word in input.split()])"
   ]
  },
  {
   "cell_type": "code",
   "execution_count": 17,
   "id": "39a258e0-8089-47ac-a616-5a1d26cc1c14",
   "metadata": {},
   "outputs": [
    {
     "name": "stdout",
     "output_type": "stream",
     "text": [
      "Hey wollef Le nogaW inmula\n"
     ]
    }
   ],
   "source": [
    "print(FlipWords(\"Hey fellow Le Wagon alumni\"))"
   ]
  },
  {
   "cell_type": "code",
   "execution_count": null,
   "id": "32c59aaf-06ba-4b29-976e-df435b4ed903",
   "metadata": {},
   "outputs": [],
   "source": []
  }
 ],
 "metadata": {
  "kernelspec": {
   "display_name": "Python 3 (ipykernel)",
   "language": "python",
   "name": "python3"
  },
  "language_info": {
   "codemirror_mode": {
    "name": "ipython",
    "version": 3
   },
   "file_extension": ".py",
   "mimetype": "text/x-python",
   "name": "python",
   "nbconvert_exporter": "python",
   "pygments_lexer": "ipython3",
   "version": "3.10.6"
  }
 },
 "nbformat": 4,
 "nbformat_minor": 5
}
